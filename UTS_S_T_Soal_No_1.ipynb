{
  "nbformat": 4,
  "nbformat_minor": 0,
  "metadata": {
    "colab": {
      "provenance": [],
      "authorship_tag": "ABX9TyOkOa/52f9QPN5henOZUQpY",
      "include_colab_link": true
    },
    "kernelspec": {
      "name": "python3",
      "display_name": "Python 3"
    },
    "language_info": {
      "name": "python"
    }
  },
  "cells": [
    {
      "cell_type": "markdown",
      "metadata": {
        "id": "view-in-github",
        "colab_type": "text"
      },
      "source": [
        "<a href=\"https://colab.research.google.com/github/AlfinHeck/UTS-SISTEM-TERIDSTRIBUSI/blob/main/UTS_S_T_Soal_No_1.ipynb\" target=\"_parent\"><img src=\"https://colab.research.google.com/assets/colab-badge.svg\" alt=\"Open In Colab\"/></a>"
      ]
    },
    {
      "cell_type": "code",
      "execution_count": 1,
      "metadata": {
        "id": "yhCWduI3BDoj"
      },
      "outputs": [],
      "source": [
        "\n",
        "#!/bin/python3\n",
        "\n",
        "import math\n",
        "import os\n",
        "import random\n",
        "import re\n",
        "import sys\n",
        ""
      ]
    },
    {
      "cell_type": "code",
      "source": [
        "if __name__ == '__main__':\n",
        "    n = int(input().strip())\n",
        "\n",
        "    if n%2 != 0:\n",
        "        print(\"Weird\")\n",
        "    elif n%2 == 0 and n>2 and n<=5:\n",
        "        print(\"Not Weird\")\n",
        "    elif n%2 ==0 and n > 6 and n <=20:\n",
        "        print(\"Weird\")\n",
        "    else:\n",
        "        print(\"Not Weird\")"
      ],
      "metadata": {
        "colab": {
          "base_uri": "https://localhost:8080/"
        },
        "id": "JVeDXy4JBYkP",
        "outputId": "1a5fd854-0608-454a-83c8-47758b09aba1"
      },
      "execution_count": 2,
      "outputs": [
        {
          "output_type": "stream",
          "name": "stdout",
          "text": [
            "100\n",
            "Not Weird\n"
          ]
        }
      ]
    }
  ]
}